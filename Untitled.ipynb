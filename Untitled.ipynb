{
 "cells": [
  {
   "cell_type": "code",
   "execution_count": 47,
   "metadata": {},
   "outputs": [],
   "source": [
    "import redis\n",
    "import pandas as pd\n",
    "import numpy as np\n",
    "import json "
   ]
  },
  {
   "cell_type": "code",
   "execution_count": 48,
   "metadata": {},
   "outputs": [],
   "source": [
    "r = redis.Redis(\n",
    "    host='localhost',\n",
    "    port=6379, \n",
    "    password='')"
   ]
  },
  {
   "cell_type": "code",
   "execution_count": 56,
   "metadata": {},
   "outputs": [
    {
     "data": {
      "text/plain": [
       "117"
      ]
     },
     "execution_count": 56,
     "metadata": {},
     "output_type": "execute_result"
    }
   ],
   "source": [
    "r.llen('tweets')"
   ]
  },
  {
   "cell_type": "code",
   "execution_count": 57,
   "metadata": {},
   "outputs": [],
   "source": [
    "tweets1 = r.lrange(\"tweets\", 0,-1)"
   ]
  },
  {
   "cell_type": "code",
   "execution_count": 58,
   "metadata": {},
   "outputs": [
    {
     "data": {
      "text/plain": [
       "117"
      ]
     },
     "execution_count": 58,
     "metadata": {},
     "output_type": "execute_result"
    }
   ],
   "source": [
    "len(tweets1)"
   ]
  },
  {
   "cell_type": "code",
   "execution_count": 59,
   "metadata": {},
   "outputs": [
    {
     "data": {
      "text/plain": [
       "list"
      ]
     },
     "execution_count": 59,
     "metadata": {},
     "output_type": "execute_result"
    }
   ],
   "source": [
    "type(tweets1)"
   ]
  },
  {
   "cell_type": "code",
   "execution_count": 53,
   "metadata": {},
   "outputs": [
    {
     "data": {
      "text/plain": [
       "bytes"
      ]
     },
     "execution_count": 53,
     "metadata": {},
     "output_type": "execute_result"
    }
   ],
   "source": [
    "type(tweets1[0])"
   ]
  },
  {
   "cell_type": "code",
   "execution_count": 54,
   "metadata": {},
   "outputs": [],
   "source": [
    "omg = tweets1[0].decode(\"utf-8\") "
   ]
  },
  {
   "cell_type": "markdown",
   "metadata": {},
   "source": [
    "omg[\"text\""
   ]
  },
  {
   "cell_type": "code",
   "execution_count": 14,
   "metadata": {},
   "outputs": [],
   "source": [
    "d = json.loads(omg)"
   ]
  },
  {
   "cell_type": "code",
   "execution_count": 15,
   "metadata": {},
   "outputs": [
    {
     "data": {
      "text/plain": [
       "{'id_str': '1065142339063054336',\n",
       " 'text': '@foxandfriends @FoxNews @OANN @marklevinshow @LouDobbs @TuckerCarlson @dbongino @PeteHegseth @BreitbartNews… https://t.co/0wnrp1WN2g',\n",
       " 'compound_score': 0.0,\n",
       " 'pos_score': 0.0,\n",
       " 'neu_score': 1.0,\n",
       " 'neg_score': 0.0,\n",
       " 'username': 'DiannaTrump',\n",
       " 'name': 'Dianna Trump2020',\n",
       " 'profile_image_url': 'http://pbs.twimg.com/profile_images/917069868079501312/TrYHTHzj_normal.jpg',\n",
       " 'received_at': '2018-11-21 02:18:23',\n",
       " 'language': 'en'}"
      ]
     },
     "execution_count": 15,
     "metadata": {},
     "output_type": "execute_result"
    }
   ],
   "source": [
    "d"
   ]
  },
  {
   "cell_type": "code",
   "execution_count": 16,
   "metadata": {},
   "outputs": [
    {
     "data": {
      "text/plain": [
       "'@foxandfriends @FoxNews @OANN @marklevinshow @LouDobbs @TuckerCarlson @dbongino @PeteHegseth @BreitbartNews… https://t.co/0wnrp1WN2g'"
      ]
     },
     "execution_count": 16,
     "metadata": {},
     "output_type": "execute_result"
    }
   ],
   "source": [
    "d[\"text\"]"
   ]
  },
  {
   "cell_type": "code",
   "execution_count": null,
   "metadata": {},
   "outputs": [],
   "source": []
  },
  {
   "cell_type": "code",
   "execution_count": 12,
   "metadata": {},
   "outputs": [],
   "source": [
    "import re\n",
    "\n",
    "class Tweet:\n",
    "\n",
    "    def __init__(self, data):\n",
    "        self.data = data\n",
    "\n",
    "    def user_link(self):\n",
    "        return \"http://twitter.com/{self.data=['username']}\"\n",
    "       # return \"http://twitter.com/{}\".format(self.data['username'])\n",
    "\n",
    "    def filtered_text(self):\n",
    "        return self.filter_brands(self.filter_urls(self.data['text']))\n",
    "\n",
    "    def filter_brands(self, text):\n",
    "        brands = [\"@BBC\", \"@CBS\", \"@CNN\", \"@FoxNews\", \"@nytimes\"]\n",
    "\n",
    "        for brand in brands:\n",
    "            if (brand in text):\n",
    "                text = text.replace(brand, \"<mark>{}</mark>\".format(brand))\n",
    "            else:\n",
    "                continue\n",
    "\n",
    "        return text\n",
    "\n",
    "    def filter_urls(self, text):\n",
    "        return re.sub(\"(https?:\\/\\/\\w+(\\.\\w+)+(\\/[\\w\\+\\-\\,\\%]+)*(\\?[\\w\\[\\]]+(=\\w*)?(&\\w+(=\\w*)?)*)?(#\\w+)?)\", r'<a href=\"\\1\" target=\"_blank\">\\1</a>', text)\n"
   ]
  },
  {
   "cell_type": "code",
   "execution_count": 13,
   "metadata": {},
   "outputs": [],
   "source": [
    "import json\n",
    "import redis\n",
    "#from tweet import Tweet\n",
    "\n",
    "class TweetStore:\n",
    "\n",
    "    # Redis Configuration\n",
    "    redis_host = \"localhost\"\n",
    "    redis_port = 6379\n",
    "    redis_password = \"\"\n",
    "\n",
    "    # Tweet Configuration\n",
    "    redis_key = 'tweets'\n",
    "    num_tweets = 20\n",
    "    trim_threshold = 100\n",
    "\n",
    "    def __init__(self):\n",
    "        self.db = r = redis.Redis(\n",
    "            host=self.redis_host,\n",
    "            port=self.redis_port,\n",
    "            password=self.redis_password\n",
    "        )\n",
    "        self.trim_count = 0\n",
    "\n",
    "    def tweets(self, limit=15):\n",
    "        tweets = []\n",
    "\n",
    "        for item in self.db.lrange(self.redis_key, 0, limit-1):\n",
    "            tweet_obj = json.loads(item)\n",
    "            tweets.append(Tweet(tweet_obj))\n",
    "\n",
    "        return tweets\n",
    "    \n",
    "    def tweets1(self, limit=15):\n",
    "        tweets1 = []\n",
    "\n",
    "        for item in self.db.lrange(self.redis_key, 0, limit-1):\n",
    "            tweet_obj = json.loads(item)\n",
    "            tweets1.append(tweet_obj)\n",
    "\n",
    "        return tweets1\n",
    "\n",
    "    def push(self, data):\n",
    "        self.db.lpush(self.redis_key, json.dumps(data))\n",
    "        self.trim_count += 1\n",
    "\n",
    "        # Periodically trim the list so it doesn't grow too large.\n",
    "        if self.trim_count > 100:\n",
    "            self.db.ltrim(self.redis_key, 0, self.num_tweets)\n",
    "            self.trim_count = 0"
   ]
  },
  {
   "cell_type": "code",
   "execution_count": 14,
   "metadata": {},
   "outputs": [
    {
     "data": {
      "text/plain": [
       "list"
      ]
     },
     "execution_count": 14,
     "metadata": {},
     "output_type": "execute_result"
    }
   ],
   "source": [
    "type(TweetStore().tweets1())"
   ]
  },
  {
   "cell_type": "code",
   "execution_count": 15,
   "metadata": {},
   "outputs": [
    {
     "name": "stdout",
     "output_type": "stream",
     "text": [
      "{'id_str': '1061876746184585216', 'text': '@BellaInxs2 #ALEXA IS FUNNY!!!  #JimAcosta 😂😂😂😂😂😂😂😂😂😂@POTUS @SpeakerRyan @VP @Scavino45 @SebGorka @seanhannity… https://t.co/IRP0jyP9Un', 'compound_score': 0.6714, 'pos_score': 0.291, 'neu_score': 0.709, 'neg_score': 0.0, 'username': 'Guardian_Elite', 'name': 'Guardian_Elite', 'profile_image_url': 'http://pbs.twimg.com/profile_images/543249318740631553/Ao4zoVO6_normal.jpeg', 'received_at': '2018-11-12 02:02:05', 'language': 'en'}\n",
      "\n",
      "{'id_str': '1061876730405834752', 'text': '@foxandfriends @FoxNews @seanhannity @realDonaldTrump @K_JeanPierre @TuckerCarlson @JLPtalk @PeteHegseth… https://t.co/kQNxYatzSd', 'compound_score': 0.0, 'pos_score': 0.0, 'neu_score': 1.0, 'neg_score': 0.0, 'username': 'CrosbyDerald', 'name': 'The Big Train', 'profile_image_url': 'http://pbs.twimg.com/profile_images/1029492609255964672/yT6mDFNv_normal.jpg', 'received_at': '2018-11-12 02:02:01', 'language': 'en'}\n",
      "\n",
      "{'id_str': '1061876725662007296', 'text': '@realDonaldTrump \\nHow much do you have to suck at your job to start an office fight with Smokey Bear?!? Can we get… https://t.co/tZAn7cDScp', 'compound_score': -0.7312, 'pos_score': 0.0, 'neu_score': 0.773, 'neg_score': 0.227, 'username': 'FernquistJereme', 'name': 'J.R.M. Danzig', 'profile_image_url': 'http://pbs.twimg.com/profile_images/1061804836851728384/zQGeXTPq_normal.jpg', 'received_at': '2018-11-12 02:02:00', 'language': 'en'}\n",
      "\n",
      "{'id_str': '1061876726052122624', 'text': '@nytimes \\U0001f92e\\U0001f92e\\U0001f92e\\U0001f92e\\U0001f92e\\U0001f92e', 'compound_score': 0.0, 'pos_score': 0.0, 'neu_score': 1.0, 'neg_score': 0.0, 'username': 'celticgothrogue', 'name': 'WiccanRogue', 'profile_image_url': 'http://pbs.twimg.com/profile_images/3783340216/296f638da98b8c1e3c9ba09209bdb788_normal.jpeg', 'received_at': '2018-11-12 02:02:00', 'language': 'es'}\n",
      "\n",
      "{'id_str': '1061876724026228736', 'text': '@FoxNews https://t.co/Pi53mPw3qm', 'compound_score': 0.0, 'pos_score': 0.0, 'neu_score': 1.0, 'neg_score': 0.0, 'username': 'women_prof', 'name': \"Prof'l women 4 Justice\", 'profile_image_url': 'http://pbs.twimg.com/profile_images/980184685413314560/lzm81gWI_normal.jpg', 'received_at': '2018-11-12 02:01:59', 'language': 'en'}\n",
      "\n",
      "{'id_str': '1061876716866625536', 'text': '@CNN @MSNBC @CBS @NBC @ABC @FoxNews @WSJ @USAToday @MiamiHerald @SunSentinel', 'compound_score': 0.0, 'pos_score': 0.0, 'neu_score': 1.0, 'neg_score': 0.0, 'username': 'wisemom113', 'name': 'amazed', 'profile_image_url': 'http://pbs.twimg.com/profile_images/824707971930206208/m8bpV5QD_normal.png', 'received_at': '2018-11-12 02:01:57', 'language': 'en'}\n",
      "\n",
      "{'id_str': '1061876697237258240', 'text': '@CNN https://t.co/Do6U2ZIghk', 'compound_score': 0.0, 'pos_score': 0.0, 'neu_score': 1.0, 'neg_score': 0.0, 'username': 'TheMorbidMonkey', 'name': 'Morbid Monkey', 'profile_image_url': 'http://pbs.twimg.com/profile_images/939066893293576193/Cgq7id5K_normal.jpg', 'received_at': '2018-11-12 02:01:53', 'language': 'en'}\n",
      "\n",
      "{'id_str': '1061876694489780224', 'text': '@abcnews @NBCNews @CBSNews @CNN @nytimes @WSJ @FoxNews @brianstelter @TheLeadCNN @wolfblitzer \\n\\nWhere is your repor… https://t.co/56BeCgAKGz', 'compound_score': 0.0, 'pos_score': 0.0, 'neu_score': 1.0, 'neg_score': 0.0, 'username': 'Fred1982', 'name': 'Fred1982', 'profile_image_url': 'http://pbs.twimg.com/profile_images/760887982140252160/gwNFEEY7_normal.jpg', 'received_at': '2018-11-12 02:01:52', 'language': 'en'}\n",
      "\n",
      "{'id_str': '1061876692354920449', 'text': '@politico @KellyannePolls liar! Liar! Liar!  It’s definitely a contagious illness that has permeated the WH! @cnni… https://t.co/jf3Evjv85e', 'compound_score': -0.9256, 'pos_score': 0.094, 'neu_score': 0.346, 'neg_score': 0.56, 'username': '1stnativeofUS', 'name': 'Roy', 'profile_image_url': 'http://abs.twimg.com/sticky/default_profile_images/default_profile_normal.png', 'received_at': '2018-11-12 02:01:52', 'language': 'en'}\n",
      "\n",
      "{'id_str': '1061876685614837761', 'text': '@JohnKerry of course, YOU would have been very happy shutting down traffic for hours, right, Senator? Just like mak… https://t.co/d9VaYDX8ZN', 'compound_score': 0.7574, 'pos_score': 0.265, 'neu_score': 0.735, 'neg_score': 0.0, 'username': 'JerRobbins1', 'name': 'JR', 'profile_image_url': 'http://pbs.twimg.com/profile_images/1038130336880676864/7pd2H7G7_normal.jpg', 'received_at': '2018-11-12 02:01:50', 'language': 'en'}\n",
      "\n",
      "{'id_str': '1061876684935303169', 'text': '@FoxNews https://t.co/yAkqA4ajih', 'compound_score': 0.0, 'pos_score': 0.0, 'neu_score': 1.0, 'neg_score': 0.0, 'username': 'women_prof', 'name': \"Prof'l women 4 Justice\", 'profile_image_url': 'http://pbs.twimg.com/profile_images/980184685413314560/lzm81gWI_normal.jpg', 'received_at': '2018-11-12 02:01:50', 'language': 'en'}\n",
      "\n",
      "{'id_str': '1061876684335407104', 'text': 'Hey @FoxNews why are you deleting my evidential FB comments re Trump being unable to make it to the rain?!', 'compound_score': 0.0, 'pos_score': 0.0, 'neu_score': 1.0, 'neg_score': 0.0, 'username': 'Matt_T_Munro', 'name': 'Matt Munro', 'profile_image_url': 'http://pbs.twimg.com/profile_images/1325262895/195456_513457654_3821177_n_normal.jpg', 'received_at': '2018-11-12 02:01:50', 'language': 'en'}\n",
      "\n",
      "{'id_str': '1061876676173344768', 'text': '@dcherring @FoxNews Doubt it but I can see them being told they can’t post anything else because they might be incl… https://t.co/azv65T6O3W', 'compound_score': -0.1901, 'pos_score': 0.0, 'neu_score': 0.92, 'neg_score': 0.08, 'username': 'officialtelving', 'name': 'Telvin Griffin', 'profile_image_url': 'http://pbs.twimg.com/profile_images/1042670114829529088/tGHbI0S3_normal.jpg', 'received_at': '2018-11-12 02:01:48', 'language': 'en'}\n",
      "\n",
      "{'id_str': '1061876675531681792', 'text': '@realDonaldTrump Are you going to retract this stupid comment? Will you admit that climate change is real? Will you… https://t.co/txdGcSxIhP', 'compound_score': -0.5514, 'pos_score': 0.075, 'neu_score': 0.745, 'neg_score': 0.18, 'username': 'borden_bk', 'name': 'bkb00', 'profile_image_url': 'http://pbs.twimg.com/profile_images/2583285584/photo-446_normal.JPG', 'received_at': '2018-11-12 02:01:48', 'language': 'en'}\n",
      "\n",
      "{'id_str': '1061876667579273216', 'text': '@CBSNews This is total racist garbage by @CBS https://t.co/uIeqKQaRBL', 'compound_score': -0.6124, 'pos_score': 0.0, 'neu_score': 0.667, 'neg_score': 0.333, 'username': 'lilium479', 'name': 'John Giglio', 'profile_image_url': 'http://pbs.twimg.com/profile_images/3110609771/ed82e08d1deab7082715fd86e5c99c0a_normal.jpeg', 'received_at': '2018-11-12 02:01:46', 'language': 'en'}\n",
      "\n"
     ]
    }
   ],
   "source": [
    "for tweet in TweetStore().tweets1():\n",
    "    print(tweet)\n",
    "    print(  )"
   ]
  },
  {
   "cell_type": "code",
   "execution_count": null,
   "metadata": {},
   "outputs": [],
   "source": []
  },
  {
   "cell_type": "code",
   "execution_count": 16,
   "metadata": {},
   "outputs": [
    {
     "ename": "TypeError",
     "evalue": "'Tweet' object is not subscriptable",
     "output_type": "error",
     "traceback": [
      "\u001b[0;31m---------------------------------------------------------------------------\u001b[0m",
      "\u001b[0;31mTypeError\u001b[0m                                 Traceback (most recent call last)",
      "\u001b[0;32m<ipython-input-16-7f51d98892ca>\u001b[0m in \u001b[0;36m<module>\u001b[0;34m()\u001b[0m\n\u001b[1;32m     13\u001b[0m \u001b[0;32mfor\u001b[0m \u001b[0mtweet\u001b[0m \u001b[0;32min\u001b[0m \u001b[0mTweetStore\u001b[0m\u001b[0;34m(\u001b[0m\u001b[0;34m)\u001b[0m\u001b[0;34m.\u001b[0m\u001b[0mtweets\u001b[0m\u001b[0;34m(\u001b[0m\u001b[0;34m)\u001b[0m\u001b[0;34m:\u001b[0m\u001b[0;34m\u001b[0m\u001b[0m\n\u001b[1;32m     14\u001b[0m \u001b[0;34m\u001b[0m\u001b[0m\n\u001b[0;32m---> 15\u001b[0;31m     \u001b[0mcompound_list\u001b[0m\u001b[0;34m.\u001b[0m\u001b[0mappend\u001b[0m\u001b[0;34m(\u001b[0m\u001b[0mtweet\u001b[0m\u001b[0;34m[\u001b[0m\u001b[0;34m\"compound_score\"\u001b[0m\u001b[0;34m]\u001b[0m\u001b[0;34m)\u001b[0m\u001b[0;34m\u001b[0m\u001b[0m\n\u001b[0m\u001b[1;32m     16\u001b[0m     \u001b[0mpositive_list\u001b[0m\u001b[0;34m.\u001b[0m\u001b[0mappend\u001b[0m\u001b[0;34m(\u001b[0m\u001b[0mtweet\u001b[0m\u001b[0;34m[\u001b[0m\u001b[0;34m\"pos_score\"\u001b[0m\u001b[0;34m]\u001b[0m\u001b[0;34m)\u001b[0m\u001b[0;34m\u001b[0m\u001b[0m\n\u001b[1;32m     17\u001b[0m     \u001b[0mnegative_list\u001b[0m\u001b[0;34m.\u001b[0m\u001b[0mappend\u001b[0m\u001b[0;34m(\u001b[0m\u001b[0mtweet\u001b[0m\u001b[0;34m[\u001b[0m\u001b[0;34m\"neg_score\"\u001b[0m\u001b[0;34m]\u001b[0m\u001b[0;34m)\u001b[0m\u001b[0;34m\u001b[0m\u001b[0m\n",
      "\u001b[0;31mTypeError\u001b[0m: 'Tweet' object is not subscriptable"
     ]
    }
   ],
   "source": [
    "results_list = []\n",
    "\n",
    "compound_list = []\n",
    "positive_list = []\n",
    "negative_list = []\n",
    "neutral_list = []\n",
    "number_list = []\n",
    "tweet_list = []\n",
    "users = []\n",
    "\n",
    "counter = 0\n",
    "\n",
    "for tweet in TweetStore().tweets():\n",
    "\n",
    "    compound_list.append(tweet[\"compound_score\"])\n",
    "    positive_list.append(tweet[\"pos_score\"])\n",
    "    negative_list.append(tweet[\"neg_score\"])\n",
    "    neutral_list.append(tweet[\"neu_score\"])\n",
    "    tweet_list.append(tweet[\"text\"])\n",
    "\n",
    "    counter += 1\n",
    "    number_list.append(counter)\n",
    "\n",
    "    #while len(users) < len(TweetStore().tweets()):\n",
    "    if \"@BBC\" in tweet[\"text\"]:\n",
    "        users.append(\"@BBC\") \n",
    "    elif \"@CBS\" in tweet[\"text\"]:\n",
    "        users.append(\"@CBS\")\n",
    "    elif \"@CNN\" in tweet[\"text\"]:\n",
    "        users.append(\"@CNN\") \n",
    "    elif \"@FoxNews\" in tweet[\"text\"]:\n",
    "        users.append(\"@FoxNews\") \n",
    "    elif \"@nytimes\" in tweet[\"text\"]:\n",
    "        users.append(\"@nytimes\")\n",
    "    else:\n",
    "        users.append(\"N/A\")\n",
    "\n",
    "sent ={\n",
    "        \"User\": users,\n",
    "        \"Compound\": compound_list,\n",
    "        \"Positive\": positive_list,\n",
    "        \"Neutral\": negative_list,\n",
    "        \"Negative\": neutral_list,\n",
    "        \"Tweet Count\": len(compound_list),\n",
    "        \"Number\": number_list,\n",
    "        \"Tweets\": tweet_list\n",
    "        }\n",
    "\n",
    "results_list.append(sent)"
   ]
  },
  {
   "cell_type": "code",
   "execution_count": 22,
   "metadata": {},
   "outputs": [],
   "source": [
    "store = TweetStore()\n",
    "tweets = store.tweets()\n",
    "json_string = json.dumps([ob.__dict__ for ob in tweets])"
   ]
  },
  {
   "cell_type": "code",
   "execution_count": 25,
   "metadata": {},
   "outputs": [
    {
     "data": {
      "text/plain": [
       "str"
      ]
     },
     "execution_count": 25,
     "metadata": {},
     "output_type": "execute_result"
    }
   ],
   "source": [
    "type(json_string)"
   ]
  },
  {
   "cell_type": "code",
   "execution_count": null,
   "metadata": {},
   "outputs": [],
   "source": []
  }
 ],
 "metadata": {
  "kernelspec": {
   "display_name": "Python 3",
   "language": "python",
   "name": "python3"
  },
  "language_info": {
   "codemirror_mode": {
    "name": "ipython",
    "version": 3
   },
   "file_extension": ".py",
   "mimetype": "text/x-python",
   "name": "python",
   "nbconvert_exporter": "python",
   "pygments_lexer": "ipython3",
   "version": "3.6.5"
  }
 },
 "nbformat": 4,
 "nbformat_minor": 2
}
